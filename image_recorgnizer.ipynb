{
  "nbformat": 4,
  "nbformat_minor": 0,
  "metadata": {
    "colab": {
      "provenance": [],
      "authorship_tag": "ABX9TyMm2Bzsose3VedsbRlBwljy",
      "include_colab_link": true
    },
    "kernelspec": {
      "name": "python3",
      "display_name": "Python 3"
    },
    "language_info": {
      "name": "python"
    }
  },
  "cells": [
    {
      "cell_type": "markdown",
      "metadata": {
        "id": "view-in-github",
        "colab_type": "text"
      },
      "source": [
        "<a href=\"https://colab.research.google.com/github/Shristi0124/Image_Reacognition_with_Convolutional/blob/main/image_recorgnizer.ipynb\" target=\"_parent\"><img src=\"https://colab.research.google.com/assets/colab-badge.svg\" alt=\"Open In Colab\"/></a>"
      ]
    },
    {
      "cell_type": "code",
      "execution_count": null,
      "metadata": {
        "id": "n-yV-zXPxOyh"
      },
      "outputs": [],
      "source": [
        "import tensorflow as tf\n",
        "from tensorflow.keras import datasets, layers, models\n",
        "import numpy as np\n",
        "import matplotlib.pyplot as plt"
      ]
    },
    {
      "cell_type": "code",
      "source": [
        "(X_train, y_train),(X_test, y_test) = datasets.cifar10.load_data()"
      ],
      "metadata": {
        "id": "GG5mH2tbxU0h"
      },
      "execution_count": null,
      "outputs": []
    },
    {
      "cell_type": "code",
      "source": [
        "X_test.shape"
      ],
      "metadata": {
        "colab": {
          "base_uri": "https://localhost:8080/"
        },
        "id": "W0qeczETzMND",
        "outputId": "9298e4c1-a0f5-48bd-bc5c-c2e0e2b53458"
      },
      "execution_count": null,
      "outputs": [
        {
          "output_type": "execute_result",
          "data": {
            "text/plain": [
              "(10000, 32, 32, 3)"
            ]
          },
          "metadata": {},
          "execution_count": 83
        }
      ]
    },
    {
      "cell_type": "code",
      "source": [
        "X_train.shape"
      ],
      "metadata": {
        "colab": {
          "base_uri": "https://localhost:8080/"
        },
        "id": "uY_ZkNiky9kR",
        "outputId": "3454abf5-0ff6-41d9-ccc0-a3f717aef51d"
      },
      "execution_count": null,
      "outputs": [
        {
          "output_type": "execute_result",
          "data": {
            "text/plain": [
              "(50000, 32, 32, 3)"
            ]
          },
          "metadata": {},
          "execution_count": 84
        }
      ]
    },
    {
      "cell_type": "code",
      "source": [
        "y_train.shape"
      ],
      "metadata": {
        "colab": {
          "base_uri": "https://localhost:8080/"
        },
        "id": "6G9FoqZWzR9g",
        "outputId": "4b7eda6e-cfec-4b1c-f525-6b3c297e889e"
      },
      "execution_count": null,
      "outputs": [
        {
          "output_type": "execute_result",
          "data": {
            "text/plain": [
              "(50000, 1)"
            ]
          },
          "metadata": {},
          "execution_count": 85
        }
      ]
    },
    {
      "cell_type": "code",
      "source": [
        "y_test.shape"
      ],
      "metadata": {
        "colab": {
          "base_uri": "https://localhost:8080/"
        },
        "id": "NwM8gBEBzWBb",
        "outputId": "73df61eb-ba84-4558-b31e-c82d4d49a843"
      },
      "execution_count": null,
      "outputs": [
        {
          "output_type": "execute_result",
          "data": {
            "text/plain": [
              "(10000, 1)"
            ]
          },
          "metadata": {},
          "execution_count": 86
        }
      ]
    },
    {
      "cell_type": "code",
      "source": [
        "y_train = y_train.reshape(-1,)\n",
        "y_train[:5]"
      ],
      "metadata": {
        "colab": {
          "base_uri": "https://localhost:8080/"
        },
        "id": "X5fhBsXHzYxx",
        "outputId": "d6d3592f-5842-48ca-bf51-ef62bd297b4f"
      },
      "execution_count": null,
      "outputs": [
        {
          "output_type": "execute_result",
          "data": {
            "text/plain": [
              "array([6, 9, 9, 4, 1], dtype=uint8)"
            ]
          },
          "metadata": {},
          "execution_count": 87
        }
      ]
    },
    {
      "cell_type": "code",
      "source": [
        "y_test = y_test.reshape(-1,)"
      ],
      "metadata": {
        "id": "73V3vIAgzf4a"
      },
      "execution_count": null,
      "outputs": []
    },
    {
      "cell_type": "code",
      "source": [
        "classes = ['airplane','automobile','bird','cat','deer', 'dog','frog','horse','ship','truck']"
      ],
      "metadata": {
        "id": "VLqvT8BdzrpK"
      },
      "execution_count": null,
      "outputs": []
    },
    {
      "cell_type": "code",
      "source": [
        "def plot_sample(X,y, index):\n",
        "  plt.figure(figsize=(15,2))\n",
        "  plt.imshow(X[index])\n",
        "  plt.xlabel(classes[y[index]])"
      ],
      "metadata": {
        "id": "WTBhVuHW0Hxm"
      },
      "execution_count": null,
      "outputs": []
    },
    {
      "cell_type": "code",
      "source": [
        "plot_sample(X_train, y_train, 5)"
      ],
      "metadata": {
        "colab": {
          "base_uri": "https://localhost:8080/",
          "height": 237
        },
        "id": "5xNtJdSK0pk3",
        "outputId": "9f7b74c3-0161-4ee2-b645-fd6629f3a0be"
      },
      "execution_count": null,
      "outputs": [
        {
          "output_type": "display_data",
          "data": {
            "text/plain": [
              "<Figure size 1500x200 with 1 Axes>"
            ],
            "image/png": "[encoded data removed]"
          },
          "metadata": {}
        }
      ]
    },
    {
      "cell_type": "code",
      "source": [
        "plot_sample(X_train, y_train, 17)"
      ],
      "metadata": {
        "colab": {
          "base_uri": "https://localhost:8080/",
          "height": 237
        },
        "id": "r47aNZDP1I37",
        "outputId": "5f00af23-b3e6-4098-da19-e60472695ddd"
      },
      "execution_count": null,
      "outputs": [
        {
          "output_type": "display_data",
          "data": {
            "text/plain": [
              "<Figure size 1500x200 with 1 Axes>"
            ],
            "image/png": "[encoded data removed]"
          },
          "metadata": {}
        }
      ]
    },
    {
      "cell_type": "code",
      "source": [
        "X_train = X_train/255.0\n",
        "X_test = X_test /255.0"
      ],
      "metadata": {
        "id": "dqsFxLvv1ZOt"
      },
      "execution_count": null,
      "outputs": []
    },
    {
      "cell_type": "code",
      "source": [
        "ann = models.Sequential([\n",
        "    layers.Flatten(input_shape = (32,32,3)),\n",
        "    layers.Dense(3000, activation = 'relu'),\n",
        "    layers.Dense(1000, activation = 'relu'),\n",
        "    layers.Dense(10, activation = 'softmax')\n",
        "    ])\n",
        "ann.compile(optimizer = 'SGD',\n",
        "              loss = 'sparse_categorical_crossentropy',\n",
        "              metrics = ['accuracy'])\n",
        "\n",
        "ann.fit(X_train , y_train , epochs =5 )\n"
      ],
      "metadata": {
        "id": "HLJpDxLB2PYO"
      },
      "execution_count": null,
      "outputs": []
    },
    {
      "cell_type": "code",
      "source": [
        "!pip install scikit-learn"
      ],
      "metadata": {
        "id": "_PDwzSM3-X3Y"
      },
      "execution_count": null,
      "outputs": []
    },
    {
      "cell_type": "code",
      "source": [
        "from sklearn.metrics import confusion_matrix, classification_report\n",
        "import numpy as np\n",
        "y_pred = ann. predict(X_test)\n",
        "y_pred_classes =  [np.argmax(element) for element in y_pred]\n",
        "print('classification  report : \\n ', classification_report(y_test, y_pred_classes))"
      ],
      "metadata": {
        "id": "5iWkJcf224xi"
      },
      "execution_count": null,
      "outputs": []
    },
    {
      "cell_type": "code",
      "source": [
        "import seaborn as sns\n",
        "plt.figure(figsize = (14,7))\n",
        "sns.heatmap(y_pred, annot  = True)\n",
        "plt.ylabel('Truth')\n",
        "plt.xlabel('prediction')\n",
        "plt.title('Confusion matrix')\n",
        "plt.show"
      ],
      "metadata": {
        "id": "fvJ9v6zRBPyb"
      },
      "execution_count": null,
      "outputs": []
    },
    {
      "cell_type": "code",
      "source": [
        "cnn = models.Sequential([\n",
        "    layers.Conv2D(filters=32,kernel_size=(3,3),activation='relu', input_shape=(32,32,3)),\n",
        "    layers.MaxPooling2D((2,2)),\n",
        "\n",
        "    layers.Conv2D(filters=64 , kernel_size= (3,3), activation='relu'),layers.MaxPooling2D((2,2)),\n",
        "\n",
        "    layers.Flatten(),\n",
        "    layers.Dense(64, activation='relu'),\n",
        "    layers.Dense(10, activation = 'softmax')\n",
        "])"
      ],
      "metadata": {
        "id": "xbHCXteLHQq9"
      },
      "execution_count": null,
      "outputs": []
    },
    {
      "cell_type": "code",
      "source": [
        "cnn.compile(optimizer ='adam',\n",
        "              loss = 'sparse_categorical_crossentropy',\n",
        "              metrics = ['accuracy'])"
      ],
      "metadata": {
        "id": "Kt-EmDrpJCQX"
      },
      "execution_count": null,
      "outputs": []
    },
    {
      "cell_type": "code",
      "source": [
        "cnn.fit(X_train, y_train ,epochs=10)"
      ],
      "metadata": {
        "colab": {
          "base_uri": "https://localhost:8080/"
        },
        "id": "g1Hh0B3lK1Ng",
        "outputId": "cc9f8c58-70f4-4cfa-defe-f25a6d8233a3"
      },
      "execution_count": null,
      "outputs": [
        {
          "output_type": "stream",
          "name": "stdout",
          "text": [
            "Epoch 1/10\n",
            "\u001b[1m1563/1563\u001b[0m \u001b[32m━━━━━━━━━━━━━━━━━━━━\u001b[0m\u001b[37m\u001b[0m \u001b[1m92s\u001b[0m 58ms/step - accuracy: 0.3652 - loss: 1.7374\n",
            "Epoch 2/10\n",
            "\u001b[1m1563/1563\u001b[0m \u001b[32m━━━━━━━━━━━━━━━━━━━━\u001b[0m\u001b[37m\u001b[0m \u001b[1m135s\u001b[0m 53ms/step - accuracy: 0.5856 - loss: 1.1702\n",
            "Epoch 3/10\n",
            "\u001b[1m1563/1563\u001b[0m \u001b[32m━━━━━━━━━━━━━━━━━━━━\u001b[0m\u001b[37m\u001b[0m \u001b[1m119s\u001b[0m 39ms/step - accuracy: 0.6531 - loss: 1.0016\n",
            "Epoch 4/10\n",
            "\u001b[1m1563/1563\u001b[0m \u001b[32m━━━━━━━━━━━━━━━━━━━━\u001b[0m\u001b[37m\u001b[0m \u001b[1m96s\u001b[0m 48ms/step - accuracy: 0.6762 - loss: 0.9334\n",
            "Epoch 5/10\n",
            "\u001b[1m1563/1563\u001b[0m \u001b[32m━━━━━━━━━━━━━━━━━━━━\u001b[0m\u001b[37m\u001b[0m \u001b[1m69s\u001b[0m 40ms/step - accuracy: 0.7012 - loss: 0.8604\n",
            "Epoch 6/10\n",
            "\u001b[1m1563/1563\u001b[0m \u001b[32m━━━━━━━━━━━━━━━━━━━━\u001b[0m\u001b[37m\u001b[0m \u001b[1m80s\u001b[0m 38ms/step - accuracy: 0.7227 - loss: 0.8021\n",
            "Epoch 7/10\n",
            "\u001b[1m1563/1563\u001b[0m \u001b[32m━━━━━━━━━━━━━━━━━━━━\u001b[0m\u001b[37m\u001b[0m \u001b[1m80s\u001b[0m 37ms/step - accuracy: 0.7393 - loss: 0.7518\n",
            "Epoch 8/10\n",
            "\u001b[1m1563/1563\u001b[0m \u001b[32m━━━━━━━━━━━━━━━━━━━━\u001b[0m\u001b[37m\u001b[0m \u001b[1m82s\u001b[0m 37ms/step - accuracy: 0.7520 - loss: 0.7175\n",
            "Epoch 9/10\n",
            "\u001b[1m1563/1563\u001b[0m \u001b[32m━━━━━━━━━━━━━━━━━━━━\u001b[0m\u001b[37m\u001b[0m \u001b[1m82s\u001b[0m 38ms/step - accuracy: 0.7634 - loss: 0.6774\n",
            "Epoch 10/10\n",
            "\u001b[1m1563/1563\u001b[0m \u001b[32m━━━━━━━━━━━━━━━━━━━━\u001b[0m\u001b[37m\u001b[0m \u001b[1m83s\u001b[0m 38ms/step - accuracy: 0.7787 - loss: 0.6348\n"
          ]
        },
        {
          "output_type": "execute_result",
          "data": {
            "text/plain": [
              "<keras.src.callbacks.history.History at 0x7e7e5d2f0510>"
            ]
          },
          "metadata": {},
          "execution_count": 98
        }
      ]
    },
    {
      "cell_type": "code",
      "source": [
        "cnn.evaluate(X_test,y_test)"
      ],
      "metadata": {
        "colab": {
          "base_uri": "https://localhost:8080/"
        },
        "id": "KGGJhy7nLuY1",
        "outputId": "e4d9c5fd-91d2-41b5-9f65-4e91ee57e88c"
      },
      "execution_count": null,
      "outputs": [
        {
          "output_type": "stream",
          "name": "stdout",
          "text": [
            "\u001b[1m313/313\u001b[0m \u001b[32m━━━━━━━━━━━━━━━━━━━━\u001b[0m\u001b[37m\u001b[0m \u001b[1m3s\u001b[0m 10ms/step - accuracy: 0.6993 - loss: 0.9028\n"
          ]
        },
        {
          "output_type": "execute_result",
          "data": {
            "text/plain": [
              "[0.9130850434303284, 0.6929000020027161]"
            ]
          },
          "metadata": {},
          "execution_count": 99
        }
      ]
    },
    {
      "cell_type": "code",
      "source": [
        "y_pred = cnn.predict(X_test)\n",
        "y_pred[:5]"
      ],
      "metadata": {
        "colab": {
          "base_uri": "https://localhost:8080/"
        },
        "id": "dBR9PukQL6PQ",
        "outputId": "7dc20d78-6fce-407f-ea64-9558d40863fd"
      },
      "execution_count": null,
      "outputs": [
        {
          "output_type": "stream",
          "name": "stdout",
          "text": [
            "\u001b[1m313/313\u001b[0m \u001b[32m━━━━━━━━━━━━━━━━━━━━\u001b[0m\u001b[37m\u001b[0m \u001b[1m3s\u001b[0m 10ms/step\n"
          ]
        }
      ]
    },
    {
      "cell_type": "code",
      "source": [
        "y_classes = [np.argmax(element) for element in y_pred]\n",
        "y_classes"
      ],
      "metadata": {
        "colab": {
          "base_uri": "https://localhost:8080/"
        },
        "id": "E5y45ljbMLoi",
        "outputId": "3d69d75a-c26e-42aa-e68d-d69ec7194a2a"
      },
      "execution_count": null,
      "outputs": [
        {
          "output_type": "execute_result",
          "data": {
            "text/plain": [
              "[8,\n",
              " 8,\n",
              " 8,\n",
              " 0,\n",
              " 6,\n",
              " 6,\n",
              " 3,\n",
              " 6,\n",
              " 3,\n",
              " 1,\n",
              " 0,\n",
              " 9,\n",
              " 3,\n",
              " 7,\n",
              " 9,\n",
              " 6,\n",
              " 5,\n",
              " 3,\n",
              " 8,\n",
              " 6,\n",
              " 7,\n",
              " 0,\n",
              " 4,\n",
              " 9,\n",
              " 4,\n",
              " 2,\n",
              " 2,\n",
              " 0,\n",
              " 9,\n",
              " 6,\n",
              " 6,\n",
              " 5,\n",
              " 4,\n",
              " 3,\n",
              " 9,\n",
              " 3,\n",
              " 7,\n",
              " 0,\n",
              " 9,\n",
              " 5,\n",
              " 0,\n",
              " 6,\n",
              " 7,\n",
              " 6,\n",
              " 0,\n",
              " 9,\n",
              " 3,\n",
              " 3,\n",
              " 7,\n",
              " 6,\n",
              " 9,\n",
              " 8,\n",
              " 2,\n",
              " 3,\n",
              " 8,\n",
              " 8,\n",
              " 5,\n",
              " 5,\n",
              " 5,\n",
              " 5,\n",
              " 7,\n",
              " 5,\n",
              " 4,\n",
              " 0,\n",
              " 6,\n",
              " 2,\n",
              " 1,\n",
              " 0,\n",
              " 5,\n",
              " 4,\n",
              " 0,\n",
              " 6,\n",
              " 8,\n",
              " 8,\n",
              " 0,\n",
              " 2,\n",
              " 2,\n",
              " 3,\n",
              " 5,\n",
              " 8,\n",
              " 8,\n",
              " 1,\n",
              " 1,\n",
              " 7,\n",
              " 3,\n",
              " 7,\n",
              " 2,\n",
              " 8,\n",
              " 8,\n",
              " 9,\n",
              " 0,\n",
              " 2,\n",
              " 8,\n",
              " 6,\n",
              " 4,\n",
              " 6,\n",
              " 6,\n",
              " 0,\n",
              " 0,\n",
              " 7,\n",
              " 4,\n",
              " 2,\n",
              " 6,\n",
              " 3,\n",
              " 1,\n",
              " 1,\n",
              " 3,\n",
              " 6,\n",
              " 3,\n",
              " 7,\n",
              " 4,\n",
              " 0,\n",
              " 6,\n",
              " 2,\n",
              " 9,\n",
              " 3,\n",
              " 0,\n",
              " 4,\n",
              " 3,\n",
              " 5,\n",
              " 8,\n",
              " 7,\n",
              " 1,\n",
              " 2,\n",
              " 8,\n",
              " 0,\n",
              " 8,\n",
              " 3,\n",
              " 3,\n",
              " 0,\n",
              " 4,\n",
              " 1,\n",
              " 8,\n",
              " 9,\n",
              " 1,\n",
              " 2,\n",
              " 9,\n",
              " 7,\n",
              " 2,\n",
              " 8,\n",
              " 3,\n",
              " 5,\n",
              " 6,\n",
              " 5,\n",
              " 8,\n",
              " 7,\n",
              " 6,\n",
              " 6,\n",
              " 5,\n",
              " 3,\n",
              " 0,\n",
              " 1,\n",
              " 6,\n",
              " 0,\n",
              " 0,\n",
              " 5,\n",
              " 2,\n",
              " 9,\n",
              " 3,\n",
              " 4,\n",
              " 2,\n",
              " 1,\n",
              " 6,\n",
              " 6,\n",
              " 0,\n",
              " 4,\n",
              " 8,\n",
              " 6,\n",
              " 9,\n",
              " 0,\n",
              " 9,\n",
              " 9,\n",
              " 9,\n",
              " 4,\n",
              " 9,\n",
              " 9,\n",
              " 3,\n",
              " 7,\n",
              " 5,\n",
              " 9,\n",
              " 0,\n",
              " 5,\n",
              " 2,\n",
              " 2,\n",
              " 0,\n",
              " 8,\n",
              " 6,\n",
              " 2,\n",
              " 3,\n",
              " 0,\n",
              " 5,\n",
              " 8,\n",
              " 0,\n",
              " 1,\n",
              " 7,\n",
              " 6,\n",
              " 8,\n",
              " 8,\n",
              " 7,\n",
              " 8,\n",
              " 5,\n",
              " 0,\n",
              " 8,\n",
              " 7,\n",
              " 1,\n",
              " 3,\n",
              " 0,\n",
              " 5,\n",
              " 7,\n",
              " 9,\n",
              " 2,\n",
              " 0,\n",
              " 3,\n",
              " 9,\n",
              " 8,\n",
              " 0,\n",
              " 7,\n",
              " 9,\n",
              " 0,\n",
              " 2,\n",
              " 4,\n",
              " 5,\n",
              " 9,\n",
              " 2,\n",
              " 4,\n",
              " 9,\n",
              " 2,\n",
              " 2,\n",
              " 3,\n",
              " 2,\n",
              " 5,\n",
              " 1,\n",
              " 5,\n",
              " 1,\n",
              " 8,\n",
              " 0,\n",
              " 4,\n",
              " 7,\n",
              " 5,\n",
              " 3,\n",
              " 1,\n",
              " 1,\n",
              " 1,\n",
              " 9,\n",
              " 0,\n",
              " 6,\n",
              " 0,\n",
              " 8,\n",
              " 2,\n",
              " 0,\n",
              " 7,\n",
              " 3,\n",
              " 9,\n",
              " 9,\n",
              " 2,\n",
              " 4,\n",
              " 3,\n",
              " 0,\n",
              " 8,\n",
              " 1,\n",
              " 8,\n",
              " 1,\n",
              " 3,\n",
              " 3,\n",
              " 0,\n",
              " 0,\n",
              " 4,\n",
              " 4,\n",
              " 7,\n",
              " 0,\n",
              " 4,\n",
              " 7,\n",
              " 6,\n",
              " 3,\n",
              " 8,\n",
              " 2,\n",
              " 0,\n",
              " 7,\n",
              " 4,\n",
              " 7,\n",
              " 9,\n",
              " 0,\n",
              " 6,\n",
              " 1,\n",
              " 9,\n",
              " 9,\n",
              " 1,\n",
              " 0,\n",
              " 7,\n",
              " 9,\n",
              " 1,\n",
              " 2,\n",
              " 6,\n",
              " 1,\n",
              " 3,\n",
              " 4,\n",
              " 6,\n",
              " 0,\n",
              " 0,\n",
              " 6,\n",
              " 6,\n",
              " 4,\n",
              " 3,\n",
              " 2,\n",
              " 2,\n",
              " 1,\n",
              " 9,\n",
              " 2,\n",
              " 1,\n",
              " 4,\n",
              " 8,\n",
              " 6,\n",
              " 8,\n",
              " 0,\n",
              " 7,\n",
              " 0,\n",
              " 7,\n",
              " 7,\n",
              " 5,\n",
              " 5,\n",
              " 3,\n",
              " 3,\n",
              " 2,\n",
              " 5,\n",
              " 3,\n",
              " 7,\n",
              " 7,\n",
              " 5,\n",
              " 4,\n",
              " 6,\n",
              " 1,\n",
              " 9,\n",
              " 6,\n",
              " 6,\n",
              " 6,\n",
              " 9,\n",
              " 3,\n",
              " 8,\n",
              " 0,\n",
              " 7,\n",
              " 6,\n",
              " 6,\n",
              " 0,\n",
              " 7,\n",
              " 8,\n",
              " 5,\n",
              " 7,\n",
              " 6,\n",
              " 8,\n",
              " 9,\n",
              " 9,\n",
              " 1,\n",
              " 8,\n",
              " 2,\n",
              " 6,\n",
              " 4,\n",
              " 5,\n",
              " 2,\n",
              " 1,\n",
              " 0,\n",
              " 9,\n",
              " 5,\n",
              " 8,\n",
              " 0,\n",
              " 9,\n",
              " 4,\n",
              " 4,\n",
              " 3,\n",
              " 4,\n",
              " 1,\n",
              " 2,\n",
              " 7,\n",
              " 9,\n",
              " 4,\n",
              " 2,\n",
              " 7,\n",
              " 4,\n",
              " 7,\n",
              " 2,\n",
              " 6,\n",
              " 6,\n",
              " 9,\n",
              " 0,\n",
              " 1,\n",
              " 5,\n",
              " 0,\n",
              " 7,\n",
              " 2,\n",
              " 5,\n",
              " 5,\n",
              " 1,\n",
              " 0,\n",
              " 6,\n",
              " 3,\n",
              " 9,\n",
              " 6,\n",
              " 2,\n",
              " 5,\n",
              " 0,\n",
              " 8,\n",
              " 9,\n",
              " 8,\n",
              " 7,\n",
              " 0,\n",
              " 8,\n",
              " 6,\n",
              " 0,\n",
              " 1,\n",
              " 8,\n",
              " 2,\n",
              " 7,\n",
              " 0,\n",
              " 3,\n",
              " 6,\n",
              " 1,\n",
              " 9,\n",
              " 3,\n",
              " 7,\n",
              " 3,\n",
              " 7,\n",
              " 4,\n",
              " 4,\n",
              " 8,\n",
              " 3,\n",
              " 2,\n",
              " 9,\n",
              " 3,\n",
              " 3,\n",
              " 6,\n",
              " 6,\n",
              " 4,\n",
              " 3,\n",
              " 3,\n",
              " 7,\n",
              " 3,\n",
              " 7,\n",
              " 5,\n",
              " 5,\n",
              " 3,\n",
              " 9,\n",
              " 1,\n",
              " 2,\n",
              " 9,\n",
              " 9,\n",
              " 5,\n",
              " 4,\n",
              " 5,\n",
              " 0,\n",
              " 2,\n",
              " 2,\n",
              " 1,\n",
              " 1,\n",
              " 7,\n",
              " 3,\n",
              " 9,\n",
              " 4,\n",
              " 2,\n",
              " 5,\n",
              " 4,\n",
              " 9,\n",
              " 2,\n",
              " 6,\n",
              " 1,\n",
              " 4,\n",
              " 3,\n",
              " 6,\n",
              " 7,\n",
              " 3,\n",
              " 7,\n",
              " 3,\n",
              " 3,\n",
              " 7,\n",
              " 8,\n",
              " 0,\n",
              " 3,\n",
              " 7,\n",
              " 4,\n",
              " 0,\n",
              " 5,\n",
              " 3,\n",
              " 8,\n",
              " 6,\n",
              " 8,\n",
              " 7,\n",
              " 5,\n",
              " 0,\n",
              " 9,\n",
              " 9,\n",
              " 0,\n",
              " 0,\n",
              " 1,\n",
              " 0,\n",
              " 8,\n",
              " 1,\n",
              " 1,\n",
              " 8,\n",
              " 0,\n",
              " 2,\n",
              " 2,\n",
              " 0,\n",
              " 6,\n",
              " 6,\n",
              " 2,\n",
              " 4,\n",
              " 9,\n",
              " 4,\n",
              " 3,\n",
              " 9,\n",
              " 3,\n",
              " 4,\n",
              " 5,\n",
              " 6,\n",
              " 6,\n",
              " 1,\n",
              " 5,\n",
              " 5,\n",
              " 8,\n",
              " 9,\n",
              " 5,\n",
              " 8,\n",
              " 5,\n",
              " 7,\n",
              " 0,\n",
              " 7,\n",
              " 0,\n",
              " 5,\n",
              " 0,\n",
              " 0,\n",
              " 0,\n",
              " 6,\n",
              " 9,\n",
              " 5,\n",
              " 1,\n",
              " 3,\n",
              " 6,\n",
              " 6,\n",
              " 6,\n",
              " 2,\n",
              " 9,\n",
              " 9,\n",
              " 1,\n",
              " 7,\n",
              " 6,\n",
              " 7,\n",
              " 5,\n",
              " 9,\n",
              " 1,\n",
              " 6,\n",
              " 2,\n",
              " 5,\n",
              " 3,\n",
              " 2,\n",
              " 8,\n",
              " 3,\n",
              " 9,\n",
              " 2,\n",
              " 6,\n",
              " 3,\n",
              " 3,\n",
              " 2,\n",
              " 0,\n",
              " 7,\n",
              " 6,\n",
              " 4,\n",
              " 4,\n",
              " 5,\n",
              " 9,\n",
              " 3,\n",
              " 6,\n",
              " 4,\n",
              " 6,\n",
              " 7,\n",
              " 7,\n",
              " 0,\n",
              " 3,\n",
              " 6,\n",
              " 8,\n",
              " 8,\n",
              " 7,\n",
              " 3,\n",
              " 4,\n",
              " 0,\n",
              " 8,\n",
              " 2,\n",
              " 0,\n",
              " 9,\n",
              " 3,\n",
              " 4,\n",
              " 8,\n",
              " 9,\n",
              " 6,\n",
              " 9,\n",
              " 2,\n",
              " 6,\n",
              " 1,\n",
              " 4,\n",
              " 7,\n",
              " 2,\n",
              " 5,\n",
              " 3,\n",
              " 8,\n",
              " 5,\n",
              " 0,\n",
              " 2,\n",
              " 1,\n",
              " 6,\n",
              " 2,\n",
              " 3,\n",
              " 3,\n",
              " 9,\n",
              " 6,\n",
              " 9,\n",
              " 8,\n",
              " 8,\n",
              " 5,\n",
              " 9,\n",
              " 6,\n",
              " 6,\n",
              " 7,\n",
              " 1,\n",
              " 7,\n",
              " 7,\n",
              " 1,\n",
              " 2,\n",
              " 7,\n",
              " 9,\n",
              " 9,\n",
              " 4,\n",
              " 7,\n",
              " 1,\n",
              " 8,\n",
              " 5,\n",
              " 6,\n",
              " 8,\n",
              " 4,\n",
              " 6,\n",
              " 8,\n",
              " 3,\n",
              " 0,\n",
              " 5,\n",
              " 5,\n",
              " 3,\n",
              " 0,\n",
              " 7,\n",
              " 9,\n",
              " 1,\n",
              " 3,\n",
              " 2,\n",
              " 4,\n",
              " 5,\n",
              " 3,\n",
              " 9,\n",
              " 3,\n",
              " 6,\n",
              " 9,\n",
              " 0,\n",
              " 1,\n",
              " 1,\n",
              " 4,\n",
              " 1,\n",
              " 9,\n",
              " 7,\n",
              " 7,\n",
              " 6,\n",
              " 3,\n",
              " 0,\n",
              " 9,\n",
              " 0,\n",
              " 1,\n",
              " 2,\n",
              " 6,\n",
              " 3,\n",
              " 4,\n",
              " 3,\n",
              " 2,\n",
              " 8,\n",
              " 4,\n",
              " 9,\n",
              " 3,\n",
              " 3,\n",
              " 9,\n",
              " 6,\n",
              " 0,\n",
              " 0,\n",
              " 9,\n",
              " 4,\n",
              " 6,\n",
              " 6,\n",
              " 6,\n",
              " 0,\n",
              " 4,\n",
              " 2,\n",
              " 0,\n",
              " 7,\n",
              " 8,\n",
              " 3,\n",
              " 8,\n",
              " 2,\n",
              " 7,\n",
              " 5,\n",
              " 7,\n",
              " 2,\n",
              " 6,\n",
              " 8,\n",
              " 7,\n",
              " 4,\n",
              " 2,\n",
              " 3,\n",
              " 8,\n",
              " 8,\n",
              " 5,\n",
              " 0,\n",
              " 8,\n",
              " 7,\n",
              " 4,\n",
              " 3,\n",
              " 3,\n",
              " 8,\n",
              " 4,\n",
              " 9,\n",
              " 7,\n",
              " 8,\n",
              " 8,\n",
              " 1,\n",
              " 8,\n",
              " 2,\n",
              " 1,\n",
              " 2,\n",
              " 6,\n",
              " 5,\n",
              " 5,\n",
              " 2,\n",
              " 7,\n",
              " 2,\n",
              " 1,\n",
              " 4,\n",
              " 1,\n",
              " 4,\n",
              " 1,\n",
              " 7,\n",
              " 5,\n",
              " 7,\n",
              " 0,\n",
              " 7,\n",
              " 2,\n",
              " 7,\n",
              " 6,\n",
              " 6,\n",
              " 2,\n",
              " 3,\n",
              " 9,\n",
              " 0,\n",
              " 9,\n",
              " 1,\n",
              " 2,\n",
              " 2,\n",
              " 6,\n",
              " 0,\n",
              " 2,\n",
              " 1,\n",
              " 3,\n",
              " 2,\n",
              " 6,\n",
              " 0,\n",
              " 1,\n",
              " 2,\n",
              " 4,\n",
              " 7,\n",
              " 5,\n",
              " 4,\n",
              " 6,\n",
              " 9,\n",
              " 6,\n",
              " 4,\n",
              " 0,\n",
              " 2,\n",
              " 2,\n",
              " 6,\n",
              " 0,\n",
              " 6,\n",
              " 9,\n",
              " 1,\n",
              " 7,\n",
              " 6,\n",
              " 7,\n",
              " 0,\n",
              " 3,\n",
              " 9,\n",
              " 2,\n",
              " 8,\n",
              " 3,\n",
              " 0,\n",
              " 3,\n",
              " 3,\n",
              " 7,\n",
              " 7,\n",
              " 4,\n",
              " 4,\n",
              " 7,\n",
              " 2,\n",
              " 7,\n",
              " 1,\n",
              " 2,\n",
              " 7,\n",
              " 4,\n",
              " 4,\n",
              " 8,\n",
              " 4,\n",
              " 7,\n",
              " 0,\n",
              " 2,\n",
              " 3,\n",
              " 7,\n",
              " 2,\n",
              " 0,\n",
              " 8,\n",
              " 9,\n",
              " 5,\n",
              " 0,\n",
              " 0,\n",
              " 6,\n",
              " 2,\n",
              " 0,\n",
              " 8,\n",
              " 7,\n",
              " 4,\n",
              " 3,\n",
              " 6,\n",
              " 5,\n",
              " 6,\n",
              " 1,\n",
              " 6,\n",
              " 2,\n",
              " 5,\n",
              " 2,\n",
              " 6,\n",
              " 1,\n",
              " 5,\n",
              " 9,\n",
              " 2,\n",
              " 7,\n",
              " 0,\n",
              " 7,\n",
              " 2,\n",
              " 1,\n",
              " 3,\n",
              " 2,\n",
              " 0,\n",
              " 2,\n",
              " 4,\n",
              " 5,\n",
              " 9,\n",
              " 8,\n",
              " 1,\n",
              " 0,\n",
              " 9,\n",
              " 7,\n",
              " 0,\n",
              " 7,\n",
              " 8,\n",
              " 4,\n",
              " 6,\n",
              " 6,\n",
              " 3,\n",
              " 0,\n",
              " 1,\n",
              " 3,\n",
              " 7,\n",
              " 0,\n",
              " 5,\n",
              " 3,\n",
              " 1,\n",
              " 4,\n",
              " 0,\n",
              " 3,\n",
              " 8,\n",
              " 4,\n",
              " 5,\n",
              " 4,\n",
              " 7,\n",
              " 8,\n",
              " 3,\n",
              " 0,\n",
              " 0,\n",
              " 9,\n",
              " 0,\n",
              " 7,\n",
              " 8,\n",
              " 0,\n",
              " 4,\n",
              " 4,\n",
              " 6,\n",
              " 7,\n",
              " 3,\n",
              " 9,\n",
              " 1,\n",
              " 3,\n",
              " 7,\n",
              " 7,\n",
              " 5,\n",
              " 2,\n",
              " 6,\n",
              " 6,\n",
              " 3,\n",
              " 8,\n",
              " 7,\n",
              " 1,\n",
              " 6,\n",
              " 8,\n",
              " 8,\n",
              " 7,\n",
              " 3,\n",
              " 4,\n",
              " 4,\n",
              " 0,\n",
              " 1,\n",
              " 2,\n",
              " 8,\n",
              " 8,\n",
              " 0,\n",
              " 0,\n",
              " 9,\n",
              " 9,\n",
              " 9,\n",
              " 5,\n",
              " 5,\n",
              " 2,\n",
              " 6,\n",
              " 0,\n",
              " 8,\n",
              " 4,\n",
              " 2,\n",
              " 3,\n",
              " 3,\n",
              " 7,\n",
              " 3,\n",
              " 2,\n",
              " 5,\n",
              " 9,\n",
              " 8,\n",
              " 9,\n",
              " 0,\n",
              " 7,\n",
              " 4,\n",
              " 0,\n",
              " 3,\n",
              " 0,\n",
              " 1,\n",
              " 4,\n",
              " 8,\n",
              " 3,\n",
              " 9,\n",
              " 6,\n",
              " 0,\n",
              " 4,\n",
              " 7,\n",
              " 0,\n",
              " 6,\n",
              " 7,\n",
              " 8,\n",
              " 8,\n",
              " 1,\n",
              " 1,\n",
              " 6,\n",
              " 5,\n",
              " 3,\n",
              " 6,\n",
              " 9,\n",
              " 1,\n",
              " 9,\n",
              " 9,\n",
              " 4,\n",
              " 7,\n",
              " 1,\n",
              " 7,\n",
              " 0,\n",
              " 6,\n",
              " 8,\n",
              " 1,\n",
              " 9,\n",
              " 2,\n",
              " 1,\n",
              " 5,\n",
              " 4,\n",
              " 7,\n",
              " 0,\n",
              " 3,\n",
              " 1,\n",
              " 2,\n",
              " 0,\n",
              " 1,\n",
              " 5,\n",
              " 8,\n",
              " 7,\n",
              " 3,\n",
              " 5,\n",
              " 8,\n",
              " 1,\n",
              " 3,\n",
              " 8,\n",
              " ...]"
            ]
          },
          "metadata": {},
          "execution_count": 102
        }
      ]
    },
    {
      "cell_type": "code",
      "source": [
        "y_test[:5]"
      ],
      "metadata": {
        "colab": {
          "base_uri": "https://localhost:8080/"
        },
        "id": "BVc2rnG2MDN6",
        "outputId": "3a5c7374-6c85-48ac-9b63-3080d1cb2ff7"
      },
      "execution_count": null,
      "outputs": [
        {
          "output_type": "execute_result",
          "data": {
            "text/plain": [
              "array([3, 8, 8, 0, 6], dtype=uint8)"
            ]
          },
          "metadata": {},
          "execution_count": 103
        }
      ]
    },
    {
      "cell_type": "code",
      "source": [
        "plot_sample(X_test, y_test , 60)"
      ],
      "metadata": {
        "colab": {
          "base_uri": "https://localhost:8080/",
          "height": 237
        },
        "id": "p75ifPloMdyh",
        "outputId": "0af3dc12-74dd-4be7-c16a-7c65fae538bc"
      },
      "execution_count": null,
      "outputs": [
        {
          "output_type": "display_data",
          "data": {
            "text/plain": [
              "<Figure size 1500x200 with 1 Axes>"
            ],
            "image/png": "[encoded data removed]"
          },
          "metadata": {}
        }
      ]
    },
    {
      "cell_type": "code",
      "source": [
        "plot_sample(X_test, y_test , 40)"
      ],
      "metadata": {
        "colab": {
          "base_uri": "https://localhost:8080/",
          "height": 237
        },
        "id": "oYxJq0mdMrna",
        "outputId": "84eb1b27-85d3-48fb-e25b-e0cfa3df4f5a"
      },
      "execution_count": null,
      "outputs": [
        {
          "output_type": "display_data",
          "data": {
            "text/plain": [
              "<Figure size 1500x200 with 1 Axes>"
            ],
            "image/png": "[encoded data removed]"
          },
          "metadata": {}
        }
      ]
    },
    {
      "cell_type": "code",
      "source": [
        "classes[y_classes[40]]"
      ],
      "metadata": {
        "colab": {
          "base_uri": "https://localhost:8080/",
          "height": 36
        },
        "id": "JuZve43tNOdk",
        "outputId": "2463dd87-1e49-4133-c8c0-9524d07d71e5"
      },
      "execution_count": null,
      "outputs": [
        {
          "output_type": "execute_result",
          "data": {
            "text/plain": [
              "'airplane'"
            ],
            "application/vnd.google.colaboratory.intrinsic+json": {
              "type": "string"
            }
          },
          "metadata": {},
          "execution_count": 111
        }
      ]
    },
    {
      "cell_type": "code",
      "source": [],
      "metadata": {
        "id": "-qHR8IpjNUlj"
      },
      "execution_count": null,
      "outputs": []
    }
  ]
}